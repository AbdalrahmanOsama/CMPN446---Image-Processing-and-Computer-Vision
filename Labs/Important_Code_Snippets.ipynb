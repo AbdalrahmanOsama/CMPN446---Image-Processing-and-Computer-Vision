{
 "cells": [
  {
   "cell_type": "markdown",
   "metadata": {},
   "source": [
    "Mahinour's Lab Exam Summary  ~~"
   ]
  },
  {
   "cell_type": "code",
   "execution_count": 20,
   "metadata": {},
   "outputs": [
    {
     "name": "stdout",
     "output_type": "stream",
     "text": [
      "The autoreload extension is already loaded. To reload it, use:\n",
      "  %reload_ext autoreload\n"
     ]
    }
   ],
   "source": [
    "from commonfunctions import *\n",
    "%matplotlib inline\n",
    "%load_ext autoreload\n",
    "%autoreload 2"
   ]
  },
  {
   "cell_type": "markdown",
   "metadata": {},
   "source": [
    "---"
   ]
  },
  {
   "cell_type": "markdown",
   "metadata": {},
   "source": [
    "TOC:\n",
    "1. Coding Notes\n",
    "2. Some Theory from lecs related to labs\n",
    "3. Some code snippets from labs + lab exams"
   ]
  },
  {
   "cell_type": "markdown",
   "metadata": {},
   "source": [
    "---"
   ]
  },
  {
   "cell_type": "markdown",
   "metadata": {},
   "source": [
    "# 1. Coding Notes"
   ]
  },
  {
   "cell_type": "markdown",
   "metadata": {},
   "source": [
    "### * arrays and slicing:"
   ]
  },
  {
   "cell_type": "code",
   "execution_count": null,
   "metadata": {},
   "outputs": [],
   "source": [
    "print(\"Lists: ----------------------------\")\n",
    "\n",
    "my_list = [10, 20, 30, 40, 50]\n",
    "print(my_list[0])   # Output: 10\n",
    "print(my_list[2])   # Output: 30\n",
    "print(my_list[-1])  # Output: 50\n",
    "\n",
    "\n",
    "#The syntax for slicing is start:stop:step, where start is the starting index, stop is the ending index (exclusive), and step is the step size between elements.\n",
    "print(my_list[1:4])   # Output: [20, 30, 40]\n",
    "print(my_list[:3])    # Output: [10, 20, 30]\n",
    "print(my_list[::2])   # Output: [10, 30, 50]\n",
    "\n",
    "\n",
    "print(\"2D Matrix: ----------------------------\")\n",
    "\n",
    "#For 2D matrix:\n",
    "'''\n",
    "Axis 0 (rows) --> | 1  2  3 |\n",
    "Axis 1 (columns) | 4  5  6 |\n",
    "                 | 7  8  9 |\n",
    "'''\n",
    "\n",
    "Arr2d = np.array([[1, 2, 3],\n",
    "                 [4, 5, 6],\n",
    "                 [7, 8, 9]])\n",
    "\n",
    "# Slicing to access a submatrix\n",
    "submatrix = Arr2d[0:2, 1:3]\n",
    "print(submatrix)\n",
    "# Output:\n",
    "# [[2 3]\n",
    "#  [5 6]]\n",
    "\n",
    "\n",
    "\n",
    "#For 3D matrix:\n",
    "'''\n",
    "Axis 0 (depth)   Axis 1 (rows)   Axis 2 (columns)\n",
    "|  [ [ [1, 2, 3], [4, 5, 6], [7, 8, 9] ],\n",
    "   [ [10, 11, 12], [13, 14, 15], [16, 17, 18] ],\n",
    "   [ [19, 20, 21], [22, 23, 24], [25, 26, 27] ] ]\n",
    "'''\n",
    "\n",
    "\n",
    "print(\"3D Matrix: ----------------------------\")\n",
    "\n",
    "# Create a 3D NumPy array with shape (5, 5, 5) and data type uint8\n",
    "Arr3d = np.zeros(shape=(5, 5, 5), dtype=np.uint8)\n",
    "\n",
    "print(\"Arr1\")\n",
    "print(Arr3d)\n",
    "\n",
    "\n",
    "# Modify a portion of the array to set elements to 20\n",
    "Arr3d[0:3, 0:2, 1] = 20\n",
    "print(Arr3d)\n",
    "\n",
    "# Columns (Axis 0): Slicing from column index 0 to 2 (inclusive).\n",
    "# Rows (Axis 1): Slicing from row index 0 to 1 (inclusive).\n",
    "# Depth (Axis 2): Selecting the element at depth index 1.\n",
    "\n",
    "# # order:  cell  row   column\n",
    "\n",
    "\n",
    "\n",
    "# complement:\n",
    "\n",
    "array1 = np.array([1, 2, 3, 4, 5])\n",
    "array2 = np.array([3, 4, 5, 6, 7])\n",
    "\n",
    "complement_array = np.setdiff1d(array1, array2)\n",
    "print(complement_array)\n",
    "\n",
    "# union:\n",
    "\n",
    "array1 = np.array([1, 2, 3, 4, 5])\n",
    "array2 = np.array([3, 4, 5, 6, 7])\n",
    "\n",
    "union_array = np.union1d(array1, array2)\n",
    "print(union_array)\n",
    "\n",
    "# intersect:\n",
    "\n",
    "\n",
    "array1 = np.array([1, 2, 3, 4, 5])\n",
    "array2 = np.array([3, 4, 5, 6, 7])\n",
    "\n",
    "intersection_array = np.intersect1d(array1, array2)\n",
    "print(intersection_array)\n",
    "\n",
    "\n",
    "# complement:\n",
    "img=None\n",
    "imgC= np.logical_not(img)\n",
    "\n",
    "\n"
   ]
  },
  {
   "cell_type": "markdown",
   "metadata": {},
   "source": [
    "### ** some fns and attributes"
   ]
  },
  {
   "cell_type": "code",
   "execution_count": null,
   "metadata": {},
   "outputs": [],
   "source": [
    "\n",
    "\n",
    "########################### Common Functions #########################\n",
    "print(Arr3d.shape)   #==> Attribute for Numpy array   ==>    Gets the shape of the matrix (Array).\n",
    "\n",
    "io.imread            #==>        Function             ==>             Reads an image into a Numpy matrix\n",
    "io.imshow            #==>        Function             ==>             Shows an image to a plot\n",
    "plt.figure           #==>        Function             ==>             Generates a new figure\n",
    "rgb2gray             #==>        Function             ==>             Converts RGB image to Gray\n",
    "rgb2hsv              #==>        Function             ==>             Converts RGB image to HSV\n",
    "histogram            #==>        Function             ==>             Gets histogram of an image\n",
    "\n",
    "\n",
    "########################### Showing Images ##########################\n",
    "show_images          #==>        Function             ==>             Takes two arrays one for images’ matrices and the second for images’ titles and draws images accordingly \n",
    "#show_images([img1,img2],[‘Title1’,’Title2’]\n",
    "\n",
    "#Another way to show images using subplots: \n",
    "# creating figure with 2 plots 1 row 2 columns with 6,2 dimension\n",
    "fig, (ax1, ax2) = plt.subplots(1, 2, figsize=(6, 2))\n",
    "fig.suptitle('No.1')\n",
    "\n",
    "# ax1.imshow(img)\n",
    "# ax1.set_title('Original RGB')\n",
    "\n",
    "# note we have to write down cmap=\"gray\" if grayscale\n",
    "#Side Note: cmap stands for \"colormap\" in Matplotlib, which is a library used for creating visualizations and plots in Python. A colormap is a mapping of values in your data to colors, allowing you to represent your data in a visually informative way.\n",
    "#if we removed cmap then it will still be grayscale but represented incorrectly, while if we kept it and removed the rgb2gray method above it will give the rgb normally as it doesnt convert, it only maps\n",
    "\n",
    "# ax2.imshow(gray_img, cmap=\"gray\")\n",
    "# ax2.set_title('Gray Scale')\n",
    "\n",
    "                                                                                  "
   ]
  },
  {
   "cell_type": "code",
   "execution_count": null,
   "metadata": {},
   "outputs": [],
   "source": [
    "def bintodec(binary):\n",
    "    return sum(val*(2**idx) for idx, val in enumerate(reversed(binary)))"
   ]
  },
  {
   "cell_type": "code",
   "execution_count": null,
   "metadata": {},
   "outputs": [],
   "source": [
    "\n",
    "# 2- Retreive the 3 channels of the image(R,G,B) \n",
    "red_channel= img[:,:,0]\n",
    "green_channel= img[:,:,1]\n",
    "blue_channel=img[:,:,2]"
   ]
  },
  {
   "cell_type": "code",
   "execution_count": null,
   "metadata": {},
   "outputs": [],
   "source": [
    "# VIP**\n",
    "gry= rgb2gray(img)   # not all images need this, if they are already gray dont use this\n",
    "# sometimes we might need to use rgba2rgb first then rgb2gray\n",
    "gry *=255  # note that some images might cause overflow, so don't use this on all images"
   ]
  },
  {
   "cell_type": "markdown",
   "metadata": {},
   "source": [
    "### ** some image tricks"
   ]
  },
  {
   "cell_type": "code",
   "execution_count": 19,
   "metadata": {},
   "outputs": [
    {
     "name": "stdout",
     "output_type": "stream",
     "text": [
      "Original Image:\n",
      "[[100 150 200]\n",
      " [ 50  75 100]\n",
      " [ 25  50  75]]\n",
      "\n",
      "Padded Image:\n",
      "[[  0   0   0   0   0]\n",
      " [  0 100 150 200   0]\n",
      " [  0  50  75 100   0]\n",
      " [  0  25  50  75   0]\n",
      " [  0   0   0   0   0]]\n"
     ]
    }
   ],
   "source": [
    "grayscale_img = np.array([[100, 150, 200],\n",
    "                          [50, 75, 100],\n",
    "                          [25, 50, 75]], dtype=np.uint8)\n",
    "\n",
    "\n",
    "\n",
    "# how we loop on image:\n",
    "######################\n",
    "\n",
    "for x in range(grayscale_img.shape[0]):\n",
    "        for y in range(grayscale_img.shape[1]):\n",
    "            pixel=grayscale_img[x,y]\n",
    "\n",
    "\n",
    "\n",
    "\n",
    "# if we want to add padding to the image:\n",
    "########################################\n",
    "\n",
    "# Specify the amount of padding for each side (top, bottom, left, right)\n",
    "top_pad, bottom_pad, left_pad, right_pad = 1, 1, 1, 1\n",
    "\n",
    "# Add padding with zeros\n",
    "padded_img = np.pad(grayscale_img, ((top_pad, bottom_pad), (left_pad, right_pad)), mode='constant', constant_values=0)\n",
    "\n",
    "# Display the original and padded images\n",
    "print(\"Original Image:\")\n",
    "print(grayscale_img)\n",
    "\n",
    "print(\"\\nPadded Image:\")\n",
    "print(padded_img)\n",
    "\n",
    "\n",
    "\n",
    "# Turning image to binary\n",
    "binary_image = grayscale_img > 0.5    #only if range (0-1)\n",
    "\n",
    "\n",
    "# to get height and width:\n",
    "height, width = np.shape(grayscale_img)\n",
    "\n",
    "\n",
    "# type:\n",
    "binary_image = binary_image.astype(int)\n",
    "grayimg=np.uint8(img*255)\n",
    "image = img.astype(float)"
   ]
  },
  {
   "cell_type": "markdown",
   "metadata": {},
   "source": [
    "# 2. Random Theory Notes:\n"
   ]
  },
  {
   "cell_type": "markdown",
   "metadata": {},
   "source": [
    "### <u>Lecture 1</u>"
   ]
  },
  {
   "cell_type": "markdown",
   "metadata": {},
   "source": [
    "**Image matrices are**\n",
    "<br>\n",
    "o 2D matrix: {0, 1} in Binary Images.\n",
    "<br>\n",
    "o 2D matrix: double[0, 1] or uint8[0, 255] in Intensity Images (Gray Scale).\n",
    "<br>\n",
    "o 3D matrix (MxNx3)."
   ]
  },
  {
   "cell_type": "markdown",
   "metadata": {},
   "source": [
    "---"
   ]
  },
  {
   "cell_type": "markdown",
   "metadata": {},
   "source": [
    "‘salt’\n",
    "Replaces random pixels with 1.\n",
    "\n",
    "‘pepper’\n",
    "Replaces random pixels with 0 (for unsigned images) or -1 (for signed images)."
   ]
  },
  {
   "cell_type": "markdown",
   "metadata": {},
   "source": [
    "---"
   ]
  },
  {
   "cell_type": "markdown",
   "metadata": {},
   "source": [
    "To separately get the Hue, Saturation and Value channels, use hsvImg[:,:,X]\n",
    "<br>\n",
    "Hue is the first channel, Saturation is the second and value is the last channel.\n",
    "<br>\n",
    "\n",
    "Hue is for color \"cycle\"\n",
    "More saturation (right) means strong color\n",
    "Less Saturation (left) means weak color  \n",
    "Value is for value where (down) means less brightness \"black\" and (up) more brightness \"white\""
   ]
  },
  {
   "cell_type": "markdown",
   "metadata": {},
   "source": [
    "---"
   ]
  },
  {
   "cell_type": "markdown",
   "metadata": {},
   "source": [
    "Histograms:\n",
    "<br>\n",
    "Histogram captures the distribution of gray levels in the image. “How frequently each \n",
    "gray level occurs in the image”  (number of pixels for each gradient)"
   ]
  },
  {
   "cell_type": "markdown",
   "metadata": {},
   "source": [
    "Co-occurrence matrix : It describes how often a pixel with intensity I occur in a \n",
    "specific spatial relationship to a pixel with intensity J\n",
    "<br>\n",
    "“how many times did 0 get beside 0 or we have (0-7)”. This helps in determining the texture later on.\n",
    "<br>\n",
    "<br>\n",
    "GLCM: Gray Scale Co-occurrence Matrix - the spatial relationship is defined as the pixel of interest and the pixel to its immediate right (horizontally adjacent)\n",
    "\n",
    "<br>\n",
    "Its dimensions are (nxn) where n is highest intensity of gray level i.e. 8 or 256"
   ]
  },
  {
   "cell_type": "markdown",
   "metadata": {},
   "source": [
    "Chain codes:\n",
    "The border is defined by the coordinates of its reference pixel and the \n",
    "sequence of symbols. “we have a start point and a chain code string till we reach back to \n",
    "start point again”\n",
    "<br>\n",
    "starting from 0 from left and anticlock wise"
   ]
  },
  {
   "cell_type": "markdown",
   "metadata": {},
   "source": [
    "---"
   ]
  },
  {
   "cell_type": "markdown",
   "metadata": {},
   "source": [
    "### <u>Lecture 2</u>"
   ]
  },
  {
   "cell_type": "markdown",
   "metadata": {},
   "source": [
    "1. space Domain"
   ]
  },
  {
   "cell_type": "markdown",
   "metadata": {},
   "source": [
    "You can check convolution in summary p.14 & p,17 for the matrices"
   ]
  },
  {
   "cell_type": "markdown",
   "metadata": {},
   "source": [
    "- low pass filter: smoothing and high blury\n",
    "- High pass filter: Edge detection and sharpening"
   ]
  },
  {
   "cell_type": "markdown",
   "metadata": {},
   "source": [
    "2. Frequency Domain"
   ]
  },
  {
   "cell_type": "markdown",
   "metadata": {},
   "source": [
    "Fourier Transform convert the image from Spatial Domain to Frequency Domain"
   ]
  },
  {
   "cell_type": "markdown",
   "metadata": {},
   "source": [
    "Steps: convert to frequency domain, filter in frequency domain, multiply, convert \n",
    "to space domain"
   ]
  },
  {
   "cell_type": "markdown",
   "metadata": {},
   "source": [
    "Dimensions doesnt matter in frequency domain"
   ]
  },
  {
   "cell_type": "markdown",
   "metadata": {},
   "source": [
    "From the frequency of the image we can know If the changes are high or low, if \n",
    "change is slow (lines far away) then lower frequency \"small distance between 2 pts in FD\", while if changes are fast\n",
    "(lines close together) then higher frequency \"longer distance between 2 pts in FD\".\n",
    "<br>\n",
    "\n",
    "check the code snippet below**"
   ]
  },
  {
   "cell_type": "markdown",
   "metadata": {},
   "source": [
    "Convolution in FD:"
   ]
  },
  {
   "cell_type": "markdown",
   "metadata": {},
   "source": [
    "- Huge changes gets removed (low pass filter where we pass the one with low \n",
    "frequency (white one), while the rest (black) don’t pass)\n",
    "- If we increased frequency (white box) ==> Blur will decrease, and more edges will \n",
    "appear\n"
   ]
  },
  {
   "cell_type": "markdown",
   "metadata": {},
   "source": [
    "- Eliminating high frequencies blurs the image.  \"black outside and white inside\"\n",
    "- Eliminating low frequencies gives you edges.   \"white outside and black inside\"\n",
    "- And enhancing high frequencies while keeping the low frequencies sharpens the \n",
    "image.\n",
    "\n"
   ]
  },
  {
   "cell_type": "markdown",
   "metadata": {},
   "source": [
    "---"
   ]
  },
  {
   "cell_type": "markdown",
   "metadata": {},
   "source": [
    "### <u>Lecture 3</u>"
   ]
  },
  {
   "cell_type": "markdown",
   "metadata": {},
   "source": [
    "Check the image enhancment snippets below with their explanation"
   ]
  },
  {
   "cell_type": "markdown",
   "metadata": {},
   "source": [
    "---"
   ]
  },
  {
   "cell_type": "markdown",
   "metadata": {},
   "source": [
    "### <u>Lecture 4</u>"
   ]
  },
  {
   "cell_type": "markdown",
   "metadata": {},
   "source": [
    "- Smoothing: suppresses high frequencies “decrease noise/edges”\n",
    "- Gradient operators: suppresses low frequencies. “increase edges/noise”\n",
    "\n",
    "<br>\n",
    "\n",
    "- Additive Noise (Ex. Gaussian): Random noise n(i,j) added to random pixel value I(i,j) where Inew(i,j)= I(i,j)+ n(i,j) \"any grayscale value\"\n",
    "- Impulsive (Salt and Pepper): The random pixels become either 0 or 1 only. “black or white” \n"
   ]
  },
  {
   "cell_type": "markdown",
   "metadata": {},
   "source": [
    "LPT-Smoothing: Using Averaging “without filters”:  Equation in p.30 in summary"
   ]
  },
  {
   "cell_type": "markdown",
   "metadata": {},
   "source": [
    "LPT-Smoothing: Using Linear Filters (Averaging, Gaussian) \n",
    "<br>\n",
    "\n",
    "- Mean Filter: LPF    when we increase size of filter, noise is less but blurring becomes serious disadvantage\n",
    "- Gaussian Filter: LPF  we can increase size of filter with sigma=1 and will give better results than mean filter, but increasing sigma causes more blurrniess too.\n",
    "<br>\n",
    "\n",
    "Unlike Mean averaging, Gaussian filter is a more sophisticated filter that uses a Gaussian \n",
    "function to weight the neighboring pixels. The Gaussian function gives more weight to \n",
    "pixels that are closer to the center pixel and less weight to pixels that are further away. \n",
    "This allows the filter to capture more of the local information in the image while \n",
    "reducing the noise.\n",
    "<br>\n",
    "\n",
    "When sigma=1 then we are focusing on the middle pixel, and when we increase sigma, \n",
    "this means we will focus on giving more weights to the middle pixel and its \n",
    "neighborhood \n",
    "<br>\n",
    "\n",
    "could be : 1/10 [1,1,1 ; 1,2,1 ; 1,1,1]   OR  1/16 [1,2,1 ; 2,4,2 ; 1,2,1]   (NB:  we divide by number of pixels)\n"
   ]
  },
  {
   "cell_type": "markdown",
   "metadata": {},
   "source": [
    "LPT-Smoothing: Using Non- Linear Filters (Min, Max , Median)\n",
    "<br>\n",
    "\n",
    "- Max filter: The max value replaces the current pixel ➔ brighter image.\n",
    "- Min filter: The min value replaces the current pixel ➔ darker image.\n",
    "<br>\n",
    "\n",
    "but not always the best to use, can take max and noise remains instead of taking min and removing noise.\n",
    "\n",
    "- Median Filter: Good for impulsive noise (salt and pepper) and sharp edges are kept\n",
    "<br>\n",
    "\n",
    "In the previous example, getting the median will be: [0,0,0,0,0,0,0,0,255]=0 so noise removed.\n",
    "<br>\n",
    "\n",
    "How it works: The median filter works by moving through the image pixel by pixel, replacing each value with the median value of neighboring pixels\n",
    "<br>\n",
    "\n",
    "Dis: fine features and sharp thin corners or edges are damaged, however by choosing other shapes than rectangle edges can be preserved. Its also time consuming and high complexity\n",
    "<br>\n",
    "\n",
    "Adv: No new values are added (values from image) + good with impulsive noise\n",
    "\n",
    "<br>\n",
    "\n",
    "Check concept of rotating mask in lec p.36"
   ]
  },
  {
   "cell_type": "markdown",
   "metadata": {},
   "source": [
    "---"
   ]
  },
  {
   "cell_type": "markdown",
   "metadata": {},
   "source": [
    "### <u>Lecture 5</u>"
   ]
  },
  {
   "cell_type": "markdown",
   "metadata": {},
   "source": [
    "check code snippets below"
   ]
  },
  {
   "cell_type": "markdown",
   "metadata": {},
   "source": [
    "---"
   ]
  },
  {
   "cell_type": "markdown",
   "metadata": {},
   "source": [
    "### <u>Lecture 6</u>"
   ]
  },
  {
   "cell_type": "markdown",
   "metadata": {},
   "source": [
    "- Erosion: fit \"thinning and removing unwanted objects\"   [min]\n",
    "- Dilation: Hit \"connect disconnected components, and region growing   [max]\n",
    "- Opening: Erosion followed by dilation\n",
    "- Closing: dilation followed by erosion\n",
    "\n",
    "<br>\n",
    "\n",
    "Region Filling Algo:   p.61\n",
    "<br>\n",
    "\n",
    "p is the point inside the boundary, with the value of 1 \n",
    "X(k) = (X(k-1) dilate B) conjunction with complemented A \n",
    "The process stops when X(k) = X(k-1)\n",
    "\n"
   ]
  },
  {
   "cell_type": "markdown",
   "metadata": {},
   "source": [
    "---"
   ]
  },
  {
   "cell_type": "markdown",
   "metadata": {},
   "source": [
    "# 3. Some Code Snippets"
   ]
  },
  {
   "cell_type": "markdown",
   "metadata": {},
   "source": [
    "### Noise"
   ]
  },
  {
   "cell_type": "code",
   "execution_count": null,
   "metadata": {},
   "outputs": [],
   "source": [
    "########################### Random Noise \"Salt and pepper\" ###############################\n",
    "random_noise         #==>        Function             ==>             Adds noise to image\n",
    "#EX: noise005=random_noise(gray_img, mode=\"s&p\") #default is amount=0.05\n"
   ]
  },
  {
   "cell_type": "markdown",
   "metadata": {},
   "source": [
    "### Histogram"
   ]
  },
  {
   "cell_type": "code",
   "execution_count": 15,
   "metadata": {},
   "outputs": [
    {
     "name": "stdout",
     "output_type": "stream",
     "text": [
      "[[0.         0.         0.         ... 0.         0.         0.        ]\n",
      " [0.00390625 0.00390625 0.00390625 ... 0.00390625 0.00390625 0.00390625]\n",
      " [0.0078125  0.0078125  0.0078125  ... 0.0078125  0.0078125  0.0078125 ]\n",
      " ...\n",
      " [0.98828125 0.98828125 0.98828125 ... 0.98828125 0.98828125 0.98828125]\n",
      " [0.9921875  0.9921875  0.9921875  ... 0.9921875  0.9921875  0.9921875 ]\n",
      " [0.99609375 0.99609375 0.99609375 ... 0.99609375 0.99609375 0.99609375]]\n"
     ]
    },
    {
     "data": {
      "image/png": "[encoded data removed]",
      "text/plain": [
       "<Figure size 640x480 with 1 Axes>"
      ]
     },
     "metadata": {},
     "output_type": "display_data"
    },
    {
     "data": {
      "image/png": "[encoded data removed]",
      "text/plain": [
       "<Figure size 640x480 with 1 Axes>"
      ]
     },
     "metadata": {},
     "output_type": "display_data"
    }
   ],
   "source": [
    "#########################################   Historgram  ###############################\n",
    "# 1.                We can use this:\n",
    "def showHistFunction(img,histogramImg):\n",
    "    plt.figure()\n",
    "    bar(histogramImg[1]*255, histogramImg[0], width=0.8, align='center')\n",
    "'''\n",
    "1- Show Historgram with different bins\n",
    "'''\n",
    "#where nbins represent number of bins (256 bins, 8 bins or 64 bins only)\n",
    "# histogram_ex1_1 = histogram(rgb2gray(ex1), 256)\n",
    "# histogram_ex1_2 = histogram(rgb2gray(ex1), 64)\n",
    "# histogram_ex1_3 = histogram(rgb2gray(ex1), 8)\n",
    "# showHistFunction(ex1, histogram_ex1_1)\n",
    "# showHistFunction(ex1, histogram_ex1_2)\n",
    "# showHistFunction(ex1, histogram_ex1_3)\n",
    "\n",
    "'''\n",
    "2- Draw a grey-scale image that has uniform histogram \n",
    "same number of pixels for all intensity levels) using code only. Let the size of the image be 256x256.\n",
    "use np.ones to draw image with ones.\n",
    "'''\n",
    "grayscale_img = np.ones((256, 256))\n",
    "\n",
    "for i in range(256):\n",
    "    grayscale_img[i,:] = i/256.0\n",
    "print(grayscale_img)\n",
    "test = histogram(grayscale_img, nbins=8)\n",
    "showHistFunction(grayscale_img, test)\n",
    "show_images([grayscale_img])\n",
    "\n",
    "\n",
    "## 2. We can just use ShowHist given from the common functions file, but note that they are different.\n"
   ]
  },
  {
   "cell_type": "markdown",
   "metadata": {},
   "source": [
    "### Space Domain Filters & Conv"
   ]
  },
  {
   "cell_type": "code",
   "execution_count": 17,
   "metadata": {},
   "outputs": [],
   "source": [
    "Low_pass_filter_sd =np.ones((3,3)) * 1/9\n",
    "\n",
    "high_pass_filter_sd =np.ones((3,3)) \n",
    "high_pass_filter_sd[1,1]=-8\n",
    "\n",
    "horizontal_edge_detection_filter_sd =np.array([\n",
    "    [ 1,1, 1],\n",
    "    [0, 0,0],\n",
    "    [ -1,-1, -1]\n",
    "])\n",
    "                     \n",
    "vertical_edge_detection_filter_sd = np.transpose(horizontal_edge_detection_filter_sd)\n",
    "\n",
    "# filtered_img = convolve2d(img,filter)"
   ]
  },
  {
   "cell_type": "markdown",
   "metadata": {},
   "source": [
    "### Frequency Domain & Frequency Filters"
   ]
  },
  {
   "cell_type": "code",
   "execution_count": 16,
   "metadata": {},
   "outputs": [
    {
     "data": {
      "image/png": "[encoded data removed]",
      "text/plain": [
       "<Figure size 640x480 with 1 Axes>"
      ]
     },
     "metadata": {},
     "output_type": "display_data"
    }
   ],
   "source": [
    "#########################################   Frequency Domain  ###############################\n",
    "\n",
    "# This function maps matrices from frequency to space then plots them\n",
    "def plot_image_from_freq(freq_domain_mat):\n",
    "    inverse_fft_mat = fftpack.ifft2(freq_domain_mat) # Inverse FFT is a fast version of inverse DFT\n",
    "    # Due to approximations, the returned matrix contains complex numbers\n",
    "    # So, we get the magnitude to be able to plot the image\n",
    "    image = np.abs(inverse_fft_mat) \n",
    "    show_images([image], titles=['Image in Space Domain'])\n",
    "\n",
    "# Notice that in this case, we have very small distance between points so small change [large space between lines]\n",
    "# if we increased the distance (11) o sth else (21) the more changes and [smaller space between lines]\n",
    "# similary we can do it horizontally or vertically like lab 2\n",
    "freq_domain_mat = np.zeros([21,21])\n",
    "freq_domain_mat[9, 10] = 1 # The choice of the value '1' is arbitrary\n",
    "freq_domain_mat[11, 10] = 1\n",
    "plot_image_from_freq(freq_domain_mat)"
   ]
  },
  {
   "cell_type": "code",
   "execution_count": null,
   "metadata": {},
   "outputs": [],
   "source": [
    "# This function applies a filter to an image in the frequency domain\n",
    "# and plots multiple images describing the process\n",
    "def apply_filter_in_freq(img, f):\n",
    "    img_in_freq = fftpack.fft2(img)\n",
    "    \n",
    "    # we supply the img shape here to make both the filter and img have the same shape to be able to multiply\n",
    "    filter_in_freq = fftpack.fft2(f, img.shape)\n",
    "    filtered_img_in_freq = np.multiply(img_in_freq, filter_in_freq)\n",
    "    filtered_img = fftpack.ifft2(filtered_img_in_freq)\n",
    "    \n",
    "    show_images([img,\n",
    "                fftpack.fftshift(np.log(np.abs(img_in_freq)+1)), # log for better intensity scale, \n",
    "                                                                 # shift to make zero freq at center\n",
    "                fftpack.fftshift(np.log(np.abs(filter_in_freq)+1)),\n",
    "                fftpack.fftshift(np.log(np.abs(filtered_img_in_freq)+1)),\n",
    "                np.abs(filtered_img)\n",
    "                ], ['Image', 'Image in Freq. Domain', 'Filter in Freq. Domain', 'Filtered Image in Freq. Domain', 'Filtered Image'])\n",
    "    \n",
    "\n",
    "# Let's try some filters in FD AFTER converting image to grayscale:\n",
    "    \n",
    "# This is a low pass filter (in frequency domain)  where black outside, white inside ==> cause smoothing and blurry\n",
    "# Note that this is considered gaussian (averaging giving more weights to neighbors inside)\n",
    "low_pass_filter_fd=np.array([\n",
    "    [1,2,1],\n",
    "    [2,4,2],\n",
    "    [1,2,1]\n",
    "])\n",
    "# This is a high pass filter (in frequency domain)  where black inside, white outside ==> cause edge detection\n",
    "high_pass_filter_fd=np.array([\n",
    "    [ 0,-1, 0],\n",
    "    [-1, 4,-1],\n",
    "    [ 0,-1, 0]\n",
    "])\n",
    "\n",
    "#then use apply_filter_in_freq\n",
    "\n"
   ]
  },
  {
   "cell_type": "markdown",
   "metadata": {},
   "source": [
    "### Image Enhancemnet "
   ]
  },
  {
   "cell_type": "code",
   "execution_count": null,
   "metadata": {},
   "outputs": [],
   "source": [
    "############################## Negative transformation ###################\n",
    "# 255-r\n",
    "def negative(img):\n",
    "    grayimg=rgb2gray(img*255)\n",
    "    grayimg=255-grayimg\n",
    "    return grayimg\n",
    "\n",
    "############################## Brightness Thresholding  ######################\n",
    "\n",
    "#It acts as a filter where for a certain range=>0 and the other range=>1 \n",
    "# Turns it into binary image\n",
    "\n",
    "\n",
    "############################### Contrast enhancemnt #######################\n",
    "#High contrast means more arrangement of colors in bigger range.\n",
    "#Low contrast means colors are gathered in one place (i.e. gathered to a certain pixel intensity) , i.e. a bright image has pixels towards white (low contrast)\n",
    "\n",
    "#It can use linear transformation  OR log: t(r)= c log(1+r)\n",
    "\n",
    "#Define function ‘Contrast_enhancement’ that Stretches the grey levels in the \n",
    "#range 0 to 100 into the range 50 – 200 and leaves other levels non changed. \n",
    "#What is the equation??? \n",
    "\n",
    "# hint: draw the spectrum of levels to know the equation, use for loops and if statements\n",
    "\n",
    "#Method 1:\n",
    "def Contrast_enhancement(img):\n",
    "    grayimg=(rgb2gray(img))    # might need to multiply by 255 or not according to image\n",
    "    print(grayimg.shape[0])\n",
    "    print(grayimg.shape[1])\n",
    "    for x in grayimg:\n",
    "        for y in x:\n",
    "            if(y>=0 and y<=100):\n",
    "                y=y*1.5+50\n",
    "    return grayimg\n",
    "\n",
    "#Method 2:\n",
    "def Contrast_enhancementmine(img):\n",
    "    grayimg=(rgb2gray(img))\n",
    "    i=0\n",
    "    for x in range(grayimg.shape[0]):\n",
    "        for y in range(grayimg.shape[1]):\n",
    "            pixel=grayimg[x,y]\n",
    "            if(pixel>=0 and pixel<=100):\n",
    "                pixel=pixel+(i*50)\n",
    "                i=i+1\n",
    "           \n",
    "    return grayimg\n",
    "\n",
    "\n",
    "\n",
    "############################## Gamma Correction #############################\n",
    "#fn: (𝐴′ = 𝑐 ∗ 𝐴^gamma)\n",
    "# c is always 1\n",
    "# gamma:\n",
    "#       If input is black: decreasing gamma decreases the black in the image\n",
    "#       If input is white: increasing gamma decreases the white in the image\n",
    "\n",
    "# check lab 4 to see effect\n",
    "def gammaCorrection(img,c,gamma):\n",
    "     grayimg=(rgb2gray(img)*255)\n",
    "     grayimg = (grayimg ** gamma) * c\n",
    "     return grayimg\n",
    "\n",
    "\n",
    "################################# HISTOGRAM EQUALIZATION ###########################################  # lab 4\n",
    "#p. 26 in the summary\n",
    "# helps in converting the image to high contrast\n",
    "\n",
    "#Images should be grayscaled, but first check if the given image was already grayscaled or not.\n",
    "# 1. get intensities and pixels arrays where:  intensities=imgHist[1]  &  pixels=imgHist[0]\n",
    "# 2. get pdf of all pixels where p(pxl_intensity)= number_of_pixels_at_this_intensity / number of pixels\n",
    "     # pdf=pixels/np.sum(pixels)\n",
    "# 3. T(pixel_intensity)= round(largestpixelintensity*  cdf)  \n",
    "        #where cdf= p(0)+p(1)+p(2).......\n",
    "# 4. When you get T : T are new pixel intensities so new pixel_val(T)= pixels\n",
    "\n",
    "\n",
    "'''\n",
    "4 Histogram Eq.\n",
    "Note: Histogram function of skimage returns only present intensity values not all 255\n",
    "You can use showHist function from commonfunctions file\n",
    "'''\n",
    "def getImageWithHist(img,nbins=256):\n",
    "    imgHist = histogram(img, nbins)\n",
    "    intensities=imgHist[1]\n",
    "    pixels=imgHist[0]\n",
    "\n",
    "    # print(np.sum(pixels))\n",
    "    pdf=pixels/np.sum(pixels)  #list of new pixels with their pdf\n",
    "\n",
    "    csum=0\n",
    "    t=[]  # New T values: new pixel intensity\n",
    "    for i in range(len(pdf)):    #pdf size is pixels size \n",
    "        csum=pdf[i]+csum\n",
    "        t.append(round(255*csum))\n",
    "\n",
    "    print(t[0:100])\n",
    "        \n",
    "    #now we need to get image:\n",
    "    copy=np.zeros(img.shape)\n",
    "\n",
    "    print(img)\n",
    "    for x in range(img.shape[0]):\n",
    "        for y in range(img.shape[1]):   \n",
    "            copy[x,y]=t[img[x,y]]\n",
    "    return copy"
   ]
  },
  {
   "cell_type": "markdown",
   "metadata": {},
   "source": [
    "### Smoothing"
   ]
  },
  {
   "cell_type": "code",
   "execution_count": null,
   "metadata": {},
   "outputs": [],
   "source": [
    "#################################### Own Median Filter #############################\n",
    "'''\n",
    "edgex := (window width / 2) rounded down\n",
    "edgey := (window height / 2) rounded down\n",
    "for x from edgex to image width – edgex\n",
    "{\n",
    " for y from edgey to image height – edgey\n",
    " {\n",
    " allocate colorArray[window height][window width]\n",
    " for fx from 0 to window width\n",
    " for fy from 0 to window height\n",
    " colorArray[fy][fx] := inputPixelValue [y + fy - edgey] [x + fx - edgex]\n",
    " sort all entries in colorArray[][]\n",
    " outputPixelValue[y][x] := colorArray [window height / 2] [window width / 2]\n",
    " }\n",
    "}\n",
    "'''\n",
    "def medianFilter(img, window_width, window_height):\n",
    "    [h,w]= img.shape\n",
    "    edgex= math.floor(window_width/2)\n",
    "    edgey= math.floor(window_height/2)\n",
    "    outputImg=np.zeros(img.shape)\n",
    "\n",
    "    for y,x in itertools.product(range(edgey, h-edgey-1), range(edgex, w-edgex-1)):\n",
    "        colorArray=img[y-edgey:y+edgey+1, x-edgex:x+edgex+1]\n",
    "        outputImg[y,x]= np.median(colorArray,axis=None)\n",
    "\n",
    "    return outputImg\n",
    "\n",
    "\n",
    "# built_in_median=median(img)"
   ]
  },
  {
   "cell_type": "code",
   "execution_count": null,
   "metadata": {},
   "outputs": [],
   "source": [
    "################################# Gaussian filter #########################\n",
    "\n",
    "# guassian1=skimage.filters.gaussian(img,sigma=8)    # very blurry\n",
    "# guassian2=skimage.filters.gaussian(img,sigma=3)     # smoothed\n",
    "# guassian3=skimage.filters.gaussian(img,sigma=0.2)   # less blur"
   ]
  },
  {
   "cell_type": "markdown",
   "metadata": {},
   "source": [
    "### Edge Detection"
   ]
  },
  {
   "cell_type": "code",
   "execution_count": null,
   "metadata": {},
   "outputs": [],
   "source": [
    "################### derivative operators #####################\n",
    "#Derivative is all about the difference “change” between pixels.\n",
    "# local maxima or minim\n",
    "\n",
    "\n",
    "img= None\n",
    "\n",
    "# 1. Robert   #p.42\n",
    "robert_img= roberts(img)  #high sensitivity to noise, as very few pixels are used for approximation. (2x2)\n",
    "\n",
    "\n",
    "# 2. Perwitt\n",
    "perwitt_img= prewitt(img)  # in 8 directions\n",
    "\n",
    "# 3. Sobel\n",
    "\n",
    "# x and y only (3x3)\n",
    "#The difference between sobel and prewitt in x & y direction is that sobel gives more  weight to the direct neighbors\n",
    "\n",
    "sobel_img= sobel(img)\n",
    "sobel_img_h= sobel_h(img)\n",
    "sobel_img_v= sobel_v(img)\n",
    "\n",
    "\n",
    "# Custom Sobel (V-H-Both):\n",
    "def customSobel(image, threshold):\n",
    "    hx = [[-1, -2, -1], [0, 0, 0], [1, 2, 1]]\n",
    "    hy = [[-1, 0, 1], [-2, 0, 2], [-1, 0, 1]]\n",
    "\n",
    "    height, width = np.shape(image)\n",
    "\n",
    "    image_x_value = convolve2d(image, hx)\n",
    "    image_x_value[np.where(image_x_value < 0)] = 0\n",
    "\n",
    "    image_y_value = convolve2d(image, hy)\n",
    "    image_y_value[np.where(image_y_value < 0)] = 0\n",
    "\n",
    "    new_image = np.sqrt(np.square(image_x_value) + np.square(image_y_value))\n",
    "    new_image[np.where(new_image < threshold)] = 0\n",
    "    new_image[np.where(new_image >= threshold)] = 1\n",
    "\n",
    "    show_images([image_x_value, image_y_value, new_image])\n",
    "\n",
    "customSobel(img, 100)\n",
    "\n",
    "\n",
    "# 4. canny\n",
    "\n",
    "out4 = canny(img, sigma = 1.0, low_threshold = 50/255, high_threshold = 200/255)\n",
    "out5 = canny(img, sigma = 2.0, low_threshold = 50/255, high_threshold = 200/255)\n",
    "out6 = canny(img, sigma = 3.0, low_threshold = 50/255, high_threshold = 200/255)\n",
    "\n",
    "canny_img_def= canny(img, sigma=1)  #we can set ===> sigma, low_threshold, high_threshold\n",
    "canny_img_fine_details=canny(img, sigma=0.5)\n",
    "canny_img_good_edges=canny(img, sigma=1.5)\n",
    "canny_img_strong_edges=canny(img, sigma=4)\n",
    "\n",
    "canny_with_threshold_1=canny(img, high_threshold=80, low_threshold=50)\n",
    "canny_with_threshold_2=canny(img, high_threshold=100)  #when it keeps increasing (100 and more) only strong edges remain\n",
    "canny_with_threshold_3=canny(img, low_threshold=50)   # 50 is max (less noise) and 20 has more noise\n",
    "\n",
    "\n",
    "#The effect of the Canny operator is determined by three parameters: \n",
    "# ✓ the width of the Gaussian kernel used in the smoothing phase (σ) \n",
    "#    If kernel is so big, many edges would be smoothed and blurred so only Strong edges would remain, but less strong edges would vanish.\n",
    "#✓ the upper threshold of hysteresis \n",
    "#✓ and the lower threshold used by the tracker.\n",
    "\n",
    "#   Large σ detects large scale edges.\n",
    "#   Small σ detects fine features.\n",
    "#The upper tracking threshold can be set quite high, and the lower threshold quite low for good results. \n",
    "#Setting the lower threshold too high will cause noisy edges to break up. \n",
    "#Setting the upper threshold too low increases the number of spurious and undesirable edge fragments appearing in the output\n",
    "\n"
   ]
  },
  {
   "cell_type": "code",
   "execution_count": null,
   "metadata": {},
   "outputs": [],
   "source": [
    "################################ 2nd derivative operators #############################\n",
    "\n",
    "#check p.44\n",
    "\n",
    "# Laplace and Log operators\n",
    "\n",
    "#LOG:\n",
    "# ✓ Smooth Image with Gaussian Filter to remove noise first\n",
    "# ✓ Applying the Laplacian for a Gaussian-filtered image can be done in one step \n",
    "# of convolution. \n",
    "# ✓ Find zero-crossings\n",
    "# ✓ Find slope of zero-crossings\n",
    "\n",
    "#Custom LOG\n",
    "thres= 20\n",
    "def customLOG(image, threshold):\n",
    "\n",
    "    imageOut = gaussian(image, sigma = 0.5)\n",
    "    imageOut[np.where(imageOut < 0)] = -imageOut[np.where(imageOut < 0)]\n",
    "\n",
    "    f1 = [[-1, -1, -1], [-1, 8, -1], [-1, -1, -1]]\n",
    "    f2 = [[0, 1, 0], [1, -4, 1], [0, 1, 0]]\n",
    "\n",
    "    image_x_value = convolve2d(imageOut, f1)\n",
    "    image_x_value[np.where(image_x_value < threshold)] = 0\n",
    "    image_x_value[np.where(image_x_value >= threshold)] = 1\n",
    "\n",
    "    image_y_value = convolve2d(imageOut, f2)\n",
    "    image_y_value[np.where(image_y_value < threshold)] = 0\n",
    "    image_y_value[np.where(image_y_value >= threshold)] = 1\n",
    "\n",
    "    return imageOut, image_x_value, image_y_value\n",
    "\n",
    "imageOut, image_x_value, image_y_value = customLOG(img, thres/255)\n",
    "show_images([img, imageOut, image_x_value, image_y_value])\n"
   ]
  },
  {
   "cell_type": "markdown",
   "metadata": {},
   "source": [
    "### Morphology"
   ]
  },
  {
   "cell_type": "code",
   "execution_count": null,
   "metadata": {},
   "outputs": [],
   "source": [
    "# we could have also used padding  ****************  \n",
    "# but here we sliced\n",
    "\n",
    "\n",
    "# Using Min:   # only works if SE is all ones\n",
    "def erosion(image, se):\n",
    "  se_height=se.shape[0]\n",
    "  se_width= se.shape[1]\n",
    "  eroded=np.zeros(image.shape)\n",
    "  half_window=int(se_height/2)\n",
    "  height,width= image.shape\n",
    "\n",
    "  for y in range(int(se_height/2),height-int(se_height/2)):\n",
    "      for x in range(int(se_width/2),width-int(se_width/2)):\n",
    "        window=np.zeros(se.shape)\n",
    "     \n",
    "        window=image[y-half_window: y+half_window, x-half_window: x+half_window ]\n",
    "      \n",
    "        eroded[y,x]=np.min(window)    # we only used min here because our SE was all ones, if it had 0 we should use the equation in lec\n",
    "  return eroded\n",
    "\n",
    "\n",
    "se=np.ones((3,3))\n",
    "# eroded=erosion(binary_image,se)\n",
    "# sk_eroded=binary_erosion(binary_image)\n",
    "# show_images(images=[binary_image,eroded, sk_eroded], titles=[\"original binary\", \"custom_erosion\", \"Built-In Erosion\"])\n",
    "\n",
    "\n",
    "# Using Max:     # only works if SE is all ones\n",
    "def dilation(image, se):\n",
    "\n",
    "  se_height=se.shape[0]\n",
    "  se_width= se.shape[1]\n",
    "  dilated=np.zeros(image.shape)\n",
    "  half_window=int(se_height/2)\n",
    "  height,width= image.shape\n",
    "  for y in range(int(se_height/2),height-int(se_height/2)):\n",
    "      for x in range(int(se_width/2),width-int(se_width/2)):\n",
    "        window=np.zeros(se.shape)\n",
    " \n",
    "        window=image[y-half_window: y+half_window, x-half_window: x+half_window ]\n",
    "       \n",
    "        dilated[y,x]=np.max(window)\n",
    "  return dilated\n",
    "\n",
    "\n",
    "se=np.ones((3,3))\n",
    "# dilated=dilation(binary_image,se)\n",
    "# sk_dilated=binary_dilation(binary_image)\n",
    "# show_images(images=[binary_image,dilated, sk_dilated], titles=[\"original binary\", \"custom_dilation\", \"Built-In Dilation\"])\n",
    "\n",
    "\n",
    "#The following work for any SE####################################################\n",
    "\n",
    "# Another implementation using FIT:\n",
    "def Erosion(img,Array):\n",
    "    copyImage=img.copy()\n",
    "    r,c=Array.shape\n",
    "    for i in range(r//2,img.shape[0]-r//2):\n",
    "        for j in range(c//2,img.shape[1]-c//2):\n",
    "           slicedImg=img[i-r//2:i+r//2+1,j-c//2:j+c//2+1]\n",
    "           if slicedImg.all()==Array.all():\n",
    "                copyImage[i][j]= 1\n",
    "           else:\n",
    "               copyImage[i][j]= 0\n",
    "    return copyImage\n",
    "\n",
    "# Another implementation using HIT:\n",
    "def Dilation(img,Array):\n",
    "    copyImage=img.copy()\n",
    "    r,c=Array.shape\n",
    "    for i in range(r//2,img.shape[0]-r//2):\n",
    "        for j in range(c//2,img.shape[1]-c//2):\n",
    "           slicedImg=img[i-r//2:i+r//2+1,j-c//2:j+c//2+1]\n",
    "           if slicedImg.any()==Array.any():\n",
    "                copyImage[i][j]= 1\n",
    "           else:\n",
    "               copyImage[i][j]= 0\n",
    "    return copyImage"
   ]
  },
  {
   "cell_type": "code",
   "execution_count": null,
   "metadata": {},
   "outputs": [],
   "source": [
    "########################## Contours ##################################\n",
    "\n",
    "# Note: When using \"find_contours(img, 0.8)\" the o/p is a list of contours each having:\n",
    "#                 - contour[:,0] being the Y values of the contour perimeter points\n",
    "#                 - contour[:,1] being the X values of the contour perimeter points\n",
    "\n",
    "closing=None\n",
    "contours=find_contours(closing,0.8)\n",
    "\n",
    "# Bounding boxes:\n",
    "bounding_boxes=[]\n",
    "for object in contours:\n",
    "    y_values=object[:,0]\n",
    "    x_values=object[:,1]\n",
    "    minY=np.min(y_values)\n",
    "    minx=np.min(x_values)\n",
    "    maxY=np.max(y_values)\n",
    "    maxX=np.max(x_values)\n",
    "    width=maxX-minx\n",
    "    height=maxY-minY\n",
    "    aspect_ratio=width/height\n",
    "    if aspect_ratio >= 2.5 and aspect_ratio <= 3.5 and width <70 and width >60:\n",
    "        bounding_boxes.append([minx, maxX, minY, maxY])\n",
    "print(len(bounding_boxes))\n",
    "\n",
    "img_gray=rgb2gray(img)\n",
    "\n",
    "for box in bounding_boxes:\n",
    "    [Xmin, Xmax, Ymin, Ymax] = box\n",
    "    rr, cc = rectangle(start = (Ymin,Xmin), end = (Ymax,Xmax), shape=img_gray.shape)\n",
    "    img[rr, cc] = 1 #set color white"
   ]
  },
  {
   "cell_type": "code",
   "execution_count": null,
   "metadata": {},
   "outputs": [],
   "source": [
    "#################### Skeletonize #####################\n",
    "skeleton=skeletonize(binary_image)\n",
    "thinned5=thin(binary_image,  max_num_iter=5)\n",
    "thinned10=thin(binary_image,  max_num_iter=10)\n",
    "thinned15=thin(binary_image,  max_num_iter=15)\n",
    "thinned20=thin(binary_image,  max_num_iter=20)\n",
    "\n",
    "# when we increase iterations, it gets more thinned"
   ]
  },
  {
   "cell_type": "markdown",
   "metadata": {},
   "source": [
    "### Textures"
   ]
  },
  {
   "cell_type": "code",
   "execution_count": null,
   "metadata": {},
   "outputs": [],
   "source": [
    "def get_glcm_features(gray_scale_img):\n",
    "    \"\"\"\n",
    "    Given a grayscale image with graylevels from 0 - 255, this function returns the contrast\n",
    "    and the homogeneity features of the image with the help of GLCM\n",
    "    \"\"\"\n",
    "    # Tip: Make sure you understand the input-output of everything you write, \n",
    "    # not doing that results in bugs that make you believe the lab is long\n",
    "    graycomat=graycomatrix(image=gray_scale_img, distances=[1] , angles=[0])\n",
    " \n",
    "\n",
    "    contrast=graycoprops(graycomat,'contrast')\n",
    "    homogeneity=graycoprops(graycomat, 'homogeneity')\n",
    "    \n",
    "    return contrast, homogeneity\n",
    "\n",
    "# You don't need to understand how this function works\n",
    "def get_fname_images_tuple(directory):\n",
    "    fnames = os.listdir(directory)\n",
    "    to_return = []\n",
    "    for fn in fnames:\n",
    "        if fn[-3:] == 'jpg':\n",
    "            path = os.path.join(directory, fn)\n",
    "            gray_scale_image = (rgb2gray(io.imread(path)) * 255).astype(np.uint8)\n",
    "            to_return.append((fn, gray_scale_image))\n",
    "        else:\n",
    "            print('This file has been skipped', fn)\n",
    "    return to_return\n",
    "\n",
    "# You don't need to understand how this function works\n",
    "def plot_2d_features_with_names(names_fts_list, xlabel, ylabel):\n",
    "    x = [names_fts[1][0] for names_fts in names_fts_list]\n",
    "    y = [names_fts[1][1] for names_fts in names_fts_list]\n",
    "    txts = [names_fts[0] for names_fts in names_fts_list]\n",
    "    \n",
    "    fig, ax = plt.subplots()\n",
    "    ax.scatter(x, y)\n",
    "\n",
    "    for i, txt in enumerate(txts):\n",
    "        ax.annotate(txt, (x[i], y[i]))\n",
    "    ax.grid()\n",
    "    ax.set_xlabel(xlabel)\n",
    "    ax.set_ylabel(ylabel)\n",
    "    fig = plt.gcf()\n",
    "    fig.set_size_inches(13, 8)\n",
    "    \n",
    "    \n",
    "fn_img_list = get_fname_images_tuple(r'imgs_patches')\n",
    "\n",
    "fn_ft_list = []\n",
    "for fn, img in fn_img_list:\n",
    "    fn_ft_list.append((fn, get_glcm_features(img)))\n",
    "    \n",
    "plot_2d_features_with_names(fn_ft_list, 'contrast', 'homogeneity')\n",
    "\n",
    "\n",
    "# we should convert to uint8\n",
    "contrast,homogenity=get_glcm_features(np.uint8(rgb2gray(io.imread('imgs_patches/cotton1.jpg'))*255))"
   ]
  },
  {
   "cell_type": "code",
   "execution_count": null,
   "metadata": {},
   "outputs": [],
   "source": [
    "############################ LBP  ########################################\n",
    "\n",
    "#- For each pixel p, create an 8-bit number b1 b2 b3 b4 b5 b6 b7 b8, where bi = 0 if neighbor i has value less than or equal to p’s value and 1 otherwise\n",
    "\n",
    "def get_lbp_hist(grayscale_img):\n",
    "    img=np.pad(grayscale_img,pad_width=1)\n",
    "    my_hist=np.zeros(256)\n",
    "    lbp=np.zeros((img.shape))\n",
    "    for i in range(1,img.shape[0]):\n",
    "        for j in range(1,img.shape[1]):\n",
    "            oneD=[]\n",
    "            window=img[i-1:i+2,j-1:j+2]\n",
    "            pixel=img[i,j]\n",
    "            for _i in range(window.shape[0]):\n",
    "                for _j in range(window.shape[1]):\n",
    "                    if not(_i == 1 and _j == 1):\n",
    "                        if pixel < window[_i,_j]: \n",
    "                            oneD.append(1)\n",
    "                        else:\n",
    "                            oneD.append(0)\n",
    "            _bintodec=bintodec(oneD)\n",
    "        \n",
    "            lbp[i,j]=_bintodec\n",
    "            my_hist[_bintodec]+=1\n",
    "\n",
    "    return my_hist"
   ]
  },
  {
   "cell_type": "markdown",
   "metadata": {},
   "source": [
    "### Segmentation p1"
   ]
  },
  {
   "cell_type": "code",
   "execution_count": null,
   "metadata": {},
   "outputs": [],
   "source": [
    "# Nth important"
   ]
  },
  {
   "cell_type": "markdown",
   "metadata": {},
   "source": [
    "### HOG"
   ]
  },
  {
   "cell_type": "markdown",
   "metadata": {},
   "source": [
    "- Step 1: Compute Gradient: Magnitude & Direction [Per Pixel]\n",
    "- Step 2: Extract a square window (called “block”) of some size. (same size)\n",
    "- Step 3: Divide block into a square grid of sub-blocks (called “cells”) (2x2 grid in our example, resulting in four cells).\n",
    "- Step 4: Compute orientation histogram of each cell. \n",
    "You calculate the gradient in each pixel and then make a histogram for each cell.\n",
    "We have a pixel, its magnitude and direction. We then want to put this into a histogram \n",
    "where pins of histogram are directions and value is the magnitude\n",
    "- Step 5: Concatenate the four histograms.: So for each block we will have 4 histograms (since the block had 4 cells)\n",
    "<br>\n",
    "\n",
    "Let vector v be concatenation of the four histograms from step 4. \n",
    "<br>\n",
    "\n",
    "- Step 6: normalize v. An option for how to do it: Divide v by its Euclidean norm. Each block will have a normalized histogram. (1 vector for each block)\n",
    "\n",
    "- Final feature vector: Concatenate histograms : Make it a 1D vector of length 3780  ==> # of Blocks * # of cells * # of bins = 105x4x9 = 3,780\n"
   ]
  },
  {
   "cell_type": "code",
   "execution_count": null,
   "metadata": {},
   "outputs": [],
   "source": [
    "# check its lab\n",
    "# it has the following:\n",
    "#   -compute_gradient function\n",
    "# \t-compute_gradient_magnitude function\n",
    "# \t-compute_gradient_direction function\n",
    "# \t-find_nearest_bins to form the vector in slide 15\n",
    "# \t-update_histogram_bins to fill the vector with the magnitudes\n"
   ]
  },
  {
   "cell_type": "markdown",
   "metadata": {},
   "source": [
    "### Classification"
   ]
  },
  {
   "cell_type": "code",
   "execution_count": null,
   "metadata": {},
   "outputs": [],
   "source": [
    "# check its lab\n",
    "# it has the following:\n",
    "#\t-cv2.resize\n",
    "#   -hsv histogtram\n",
    "#   -cv2.HOG implemented"
   ]
  },
  {
   "cell_type": "markdown",
   "metadata": {},
   "source": [
    "### Segmentation p2"
   ]
  },
  {
   "cell_type": "code",
   "execution_count": null,
   "metadata": {},
   "outputs": [],
   "source": [
    "def automatic_thresholding(image):\n",
    "    img=np.copy(image)\n",
    "    img = img.astype(\"uint8\")\n",
    "    \n",
    "    img_hist = histogram(img, nbins=256)\n",
    "    # print(img_hist[0].shape)\n",
    "    # print(img_hist[0])      # counts\n",
    "    # print('-----------------------------')\n",
    "    # print(img_hist[1].shape) # gray levels\n",
    "    # print(img_hist[1])\n",
    "    # showHist(img)\n",
    "\n",
    "    counts_img_hist=img_hist[0]\n",
    "    graylvls_img=img_hist[1]\n",
    "    total_px_sum=np.sum(counts_img_hist)\n",
    "    Ti=np.round(np.dot(counts_img_hist,graylvls_img)/total_px_sum)\n",
    "    #print(Ti) #93.0\n",
    "\n",
    "\n",
    "    Told=Ti\n",
    "    Tnew=0\n",
    "    while(Tnew!=Told):\n",
    "        low_gray_lvls=graylvls_img[graylvls_img<Told]\n",
    "        high_gray_lvls=graylvls_img[graylvls_img>=Told]\n",
    "\n",
    "        low_gray_lvls_counts=counts_img_hist[graylvls_img<Told]\n",
    "        high_gray_lvls_counts=counts_img_hist[graylvls_img>=Told]\n",
    "        total_px_sum_low=np.sum(low_gray_lvls_counts)\n",
    "        total_px_sum_high=np.sum(high_gray_lvls_counts)\n",
    "\n",
    "        Tlow = np.round(np.sum(low_gray_lvls * low_gray_lvls_counts) / total_px_sum_low) if total_px_sum_low != 0 else 0\n",
    "        Thigh = np.round(np.sum(high_gray_lvls * high_gray_lvls_counts) / total_px_sum_high) if total_px_sum_high != 0 else 0\n",
    "\n",
    "        Tnew= np.round((Tlow+Thigh)/2)\n",
    "        #print(Tnew)\n",
    "        if Tnew == Told:\n",
    "            break\n",
    "        else:\n",
    "            Told=Tnew\n",
    "            Tnew=0 # saturated at 114.0\n",
    "\n",
    "    Tfinal=Told\n",
    "\n",
    "    img[img<Tfinal]=0\n",
    "    img[img>=Tfinal]=1\n",
    "\n",
    "    return img\n",
    "\n",
    "\n",
    "def partitionby4(image):\n",
    "    height,width= image.shape\n",
    "    center_x = width // 2\n",
    "    center_y = height // 2\n",
    "    top_left = image[:center_y, :center_x]\n",
    "    top_right = image[:center_y, center_x:]\n",
    "    bottom_left = image[center_y:, :center_x]\n",
    "    bottom_right = image[center_y:, center_x:]\n",
    "    return top_left, top_right, bottom_left, bottom_right\n",
    "\n",
    "\n",
    "\n",
    "def threshold_and_merge(image):   \n",
    "    top_left, top_right, bottom_left, bottom_right=partitionby4(image)\n",
    "    tl_th=automatic_thresholding(top_left)\n",
    "    tr_th=automatic_thresholding(top_right)\n",
    "    bl_th=automatic_thresholding(bottom_left)\n",
    "    br_th=automatic_thresholding(bottom_right)\n",
    "    merged_image= np.zeros((image.shape))\n",
    "    merged_image = np.vstack((np.hstack((tl_th, tr_th)),\n",
    "                              np.hstack((bl_th, br_th))))\n",
    "    return merged_image\n",
    "\n",
    "\n",
    "def local_thrs(image,n):\n",
    "    height, width = image.shape\n",
    "    partitions = [image[i*height//n:(i+1)*height//n, j*width//n:(j+1)*width//n] for i in range(n) for j in range(n)] \n",
    "    thresholded_partitions = [automatic_thresholding(partition) for partition in partitions]\n",
    "    merged_image = np.vstack([np.hstack(thresholded_partitions[i*n:(i+1)*n]) for i in range(n)])\n",
    "    return merged_image"
   ]
  },
  {
   "cell_type": "markdown",
   "metadata": {},
   "source": [
    "---"
   ]
  },
  {
   "cell_type": "markdown",
   "metadata": {},
   "source": [
    "the next are just important algos in lecs about those topics"
   ]
  },
  {
   "cell_type": "markdown",
   "metadata": {},
   "source": [
    "### Segmentation p3 algos"
   ]
  },
  {
   "cell_type": "markdown",
   "metadata": {},
   "source": [
    "### SIFT algos"
   ]
  }
 ],
 "metadata": {
  "kernelspec": {
   "display_name": "Python 3",
   "language": "python",
   "name": "python3"
  },
  "language_info": {
   "codemirror_mode": {
    "name": "ipython",
    "version": 3
   },
   "file_extension": ".py",
   "mimetype": "text/x-python",
   "name": "python",
   "nbconvert_exporter": "python",
   "pygments_lexer": "ipython3",
   "version": "3.11.1"
  }
 },
 "nbformat": 4,
 "nbformat_minor": 2
}
